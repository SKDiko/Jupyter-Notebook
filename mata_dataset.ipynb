{
 "cells": [
  {
   "cell_type": "markdown",
   "id": "cceddac8",
   "metadata": {},
   "source": [
    "## Learn From Data Assignment 3\n",
    "**Author:** Sonwabile Diko (217050276)<br>\n",
    "**Date:** 14 April 2023<br>\n",
    "**Source:** [META | Stock Market Analysis | Founding Years](https://www.kaggle.com/datasets/whenamancodes/meta-stock-market-analysis-founding-years)<br>\n",
    "**GitHub:** [META | Stock Market Analysis | Founding Years](https://www.kaggle.com/datasets/whenamancodes/meta-stock-market-analysis-founding-years)<br>"
   ]
  },
  {
   "cell_type": "markdown",
   "id": "5a6fbe99",
   "metadata": {},
   "source": []
  },
  {
   "cell_type": "code",
   "execution_count": null,
   "id": "d7bb44fd",
   "metadata": {},
   "outputs": [],
   "source": []
  }
 ],
 "metadata": {
  "kernelspec": {
   "display_name": "Python 3 (ipykernel)",
   "language": "python",
   "name": "python3"
  },
  "language_info": {
   "codemirror_mode": {
    "name": "ipython",
    "version": 3
   },
   "file_extension": ".py",
   "mimetype": "text/x-python",
   "name": "python",
   "nbconvert_exporter": "python",
   "pygments_lexer": "ipython3",
   "version": "3.10.9"
  }
 },
 "nbformat": 4,
 "nbformat_minor": 5
}
